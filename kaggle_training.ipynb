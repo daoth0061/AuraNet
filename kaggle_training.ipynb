{
 "cells": [
  {
   "cell_type": "markdown",
   "id": "0e4dc9bd",
   "metadata": {},
   "source": [
    "# AuraNet Training on Kaggle\n",
    "\n",
    "Notebook này dùng để chạy training AuraNet trên môi trường Kaggle với hỗ trợ ghi log ra file để theo dõi quá trình training dễ dàng hơn."
   ]
  },
  {
   "cell_type": "markdown",
   "id": "a411f1ea",
   "metadata": {},
   "source": [
    "# AuraNet Training on Kaggle\n",
    "\n",
    "Notebook này dùng để chạy training AuraNet trên môi trường Kaggle."
   ]
  },
  {
   "cell_type": "markdown",
   "id": "7c154452",
   "metadata": {},
   "source": [
    "## Thiết lập môi trường\n",
    "\n",
    "Trước tiên, thiết lập các thư mục và sao chép các file cần thiết."
   ]
  },
  {
   "cell_type": "code",
   "execution_count": null,
   "id": "4e5e9508",
   "metadata": {},
   "outputs": [],
   "source": [
    "import os\n",
    "import sys\n",
    "import shutil\n",
    "import logging\n",
    "from datetime import datetime\n",
    "\n",
    "# Thiết lập các đường dẫn\n",
    "WORKING_DIR = \"/kaggle/working/AuraNet\"\n",
    "INPUT_DIR = \"/kaggle/input\"\n",
    "AURANET_CODE_DIR = \"/kaggle/input/auranet-code\"  # Thay đổi tùy theo tên dataset của bạn\n",
    "LOG_DIR = \"/kaggle/working/AuraNet/logs\"\n",
    "\n",
    "# Tạo thư mục làm việc và logs\n",
    "os.makedirs(WORKING_DIR, exist_ok=True)\n",
    "os.makedirs(LOG_DIR, exist_ok=True)\n",
    "\n",
    "# Thêm đường dẫn vào Python path\n",
    "sys.path.append(WORKING_DIR)\n",
    "sys.path.append(os.path.join(WORKING_DIR, 'src'))"
   ]
  },
  {
   "cell_type": "markdown",
   "id": "9c67cfec",
   "metadata": {},
   "source": [
    "## Sao chép mã nguồn AuraNet"
   ]
  },
  {
   "cell_type": "code",
   "execution_count": null,
   "id": "2c9e58da",
   "metadata": {},
   "outputs": [],
   "source": [
    "# Sao chép tất cả file từ input dataset vào working directory\n",
    "!cp -r {AURANET_CODE_DIR}/* {WORKING_DIR}/\n",
    "\n",
    "# Kiểm tra file đã được sao chép\n",
    "!ls -la {WORKING_DIR}"
   ]
  },
  {
   "cell_type": "markdown",
   "id": "e8045470",
   "metadata": {},
   "source": [
    "## Cài đặt thư viện cần thiết"
   ]
  },
  {
   "cell_type": "code",
   "execution_count": null,
   "id": "fe8a8cbc",
   "metadata": {},
   "outputs": [],
   "source": [
    "# Cài đặt các thư viện cần thiết\n",
    "!pip install -r {WORKING_DIR}/requirements_kaggle.txt"
   ]
  },
  {
   "cell_type": "markdown",
   "id": "97f2052c",
   "metadata": {},
   "source": [
    "## Cấu hình training"
   ]
  },
  {
   "cell_type": "code",
   "execution_count": null,
   "id": "93043040",
   "metadata": {},
   "outputs": [],
   "source": [
    "# Thiết lập các tham số training\n",
    "CONFIG_FILE = os.path.join(WORKING_DIR, \"config_celeb_df_memory_optimized.yaml\")\n",
    "MODE = \"pretrain\"  # Options: pretrain, finetune, both\n",
    "NUM_GPUS = 2\n",
    "USE_PRETRAINED = \"yes\"\n",
    "PRETRAINED_PATH = \"/kaggle/input/convnextv2-pico/pytorch/default/1/convnextv2_pico_1k_224_fcmae.pt\"\n",
    "\n",
    "print(f\"Training configuration:\\n\")\n",
    "print(f\"- Config file: {CONFIG_FILE}\")\n",
    "print(f\"- Mode: {MODE}\")\n",
    "print(f\"- GPUs: {NUM_GPUS}\")\n",
    "print(f\"- Use pretrained: {USE_PRETRAINED}\")\n",
    "print(f\"- Pretrained path: {PRETRAINED_PATH}\")"
   ]
  },
  {
   "cell_type": "markdown",
   "id": "3f383df0",
   "metadata": {},
   "source": [
    "## Kiểm tra GPU"
   ]
  },
  {
   "cell_type": "code",
   "execution_count": null,
   "id": "4403fc0d",
   "metadata": {},
   "outputs": [],
   "source": [
    "# Kiểm tra GPU có sẵn\n",
    "!nvidia-smi"
   ]
  },
  {
   "cell_type": "markdown",
   "id": "58b78592",
   "metadata": {},
   "source": [
    "## Bắt đầu training"
   ]
  },
  {
   "cell_type": "code",
   "execution_count": null,
   "id": "63a993aa",
   "metadata": {},
   "outputs": [],
   "source": [
    "# Log training start\n",
    "logger.info(f\"Starting training with mode: {MODE}, GPUs: {NUM_GPUS}\")\n",
    "\n",
    "# Chạy training với script tối ưu hóa (nếu có)\n",
    "if os.path.exists(f\"{WORKING_DIR}/train_optimized.py\"):\n",
    "    logger.info(\"Using optimized training script\")\n",
    "    !python {WORKING_DIR}/train_optimized.py \\\n",
    "        --config {CONFIG_FILE} \\\n",
    "        --mode {MODE} \\\n",
    "        --data_root {INPUT_DIR} \\\n",
    "        --gpus {NUM_GPUS} \\\n",
    "        --use_pretrained {USE_PRETRAINED} \\\n",
    "        --pretrained_path {PRETRAINED_PATH} \\\n",
    "        --memory_optimization \\\n",
    "        --enable_optimized_modules \\\n",
    "        --kaggle \\\n",
    "        --kaggle_working_dir {WORKING_DIR} 2>&1 | tee -a {log_file_path}\n",
    "else:\n",
    "    logger.info(\"Using standard training script\")\n",
    "    !python {WORKING_DIR}/train_celeb_df.py \\\n",
    "        --config {CONFIG_FILE} \\\n",
    "        --mode {MODE} \\\n",
    "        --data_root {INPUT_DIR} \\\n",
    "        --gpus {NUM_GPUS} \\\n",
    "        --use_pretrained {USE_PRETRAINED} \\\n",
    "        --pretrained_path {PRETRAINED_PATH} \\\n",
    "        --kaggle \\\n",
    "        --kaggle_working_dir {WORKING_DIR} 2>&1 | tee -a {log_file_path}\n",
    "        \n",
    "logger.info(\"Training command completed\")"
   ]
  },
  {
   "cell_type": "markdown",
   "id": "9cbda529",
   "metadata": {},
   "source": [
    "## Kiểm tra kết quả"
   ]
  },
  {
   "cell_type": "code",
   "execution_count": null,
   "id": "834870ec",
   "metadata": {},
   "outputs": [],
   "source": [
    "# Kiểm tra thư mục logs\n",
    "LOGS_DIR = os.path.join(WORKING_DIR, \"logs\")\n",
    "!ls -la {LOGS_DIR}/celeb_df/"
   ]
  },
  {
   "cell_type": "markdown",
   "id": "7ab14af9",
   "metadata": {},
   "source": [
    "## Lưu checkpoints\n",
    "\n",
    "Đảm bảo lưu checkpoints ra ngoài để có thể tiếp tục training sau này."
   ]
  },
  {
   "cell_type": "code",
   "execution_count": null,
   "id": "be24a6e7",
   "metadata": {},
   "outputs": [],
   "source": [
    "# Nén thư mục logs để tải xuống\n",
    "!tar -czvf /kaggle/working/auranet_logs.tar.gz {LOGS_DIR}\n",
    "\n",
    "print(\"Logs compressed and ready for download.\")"
   ]
  },
  {
   "cell_type": "code",
   "execution_count": null,
   "id": "60920328",
   "metadata": {},
   "outputs": [],
   "source": [
    "# Thiết lập logging\n",
    "def setup_logging(log_dir=LOG_DIR, level=logging.INFO):\n",
    "    \"\"\"Set up logging to file and console\"\"\"\n",
    "    # Create timestamp for filename\n",
    "    timestamp = datetime.now().strftime(\"%Y%m%d_%H%M%S\")\n",
    "    log_file = f\"auranet_kaggle_{timestamp}.log\"\n",
    "    log_path = os.path.join(log_dir, log_file)\n",
    "    \n",
    "    # Configure root logger\n",
    "    logger = logging.getLogger()\n",
    "    logger.setLevel(level)\n",
    "    \n",
    "    # Remove existing handlers\n",
    "    for handler in logger.handlers[:]:\n",
    "        logger.removeHandler(handler)\n",
    "    \n",
    "    # Create console handler\n",
    "    console_handler = logging.StreamHandler(sys.stdout)\n",
    "    console_handler.setLevel(level)\n",
    "    console_format = logging.Formatter('%(asctime)s - %(name)s - %(levelname)s - %(message)s')\n",
    "    console_handler.setFormatter(console_format)\n",
    "    logger.addHandler(console_handler)\n",
    "    \n",
    "    # Create file handler\n",
    "    file_handler = logging.FileHandler(log_path)\n",
    "    file_handler.setLevel(level)\n",
    "    file_format = logging.Formatter('%(asctime)s - %(name)s - %(levelname)s - %(message)s')\n",
    "    file_handler.setFormatter(file_format)\n",
    "    logger.addHandler(file_handler)\n",
    "    \n",
    "    print(f\"Logging initialized. Log file: {log_path}\")\n",
    "    logger.info(\"AuraNet Kaggle training started\")\n",
    "    \n",
    "    return logger, log_path\n",
    "\n",
    "# Set up logging\n",
    "logger, log_file_path = setup_logging()\n",
    "logger.info(\"Environment setup completed\")\n",
    "print(f\"All logs will be saved to: {log_file_path}\")"
   ]
  }
 ],
 "metadata": {
  "language_info": {
   "name": "python"
  }
 },
 "nbformat": 4,
 "nbformat_minor": 5
}
