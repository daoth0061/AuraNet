{
 "cells": [
  {
   "cell_type": "markdown",
   "id": "a411f1ea",
   "metadata": {},
   "source": [
    "# AuraNet Training on Kaggle\n",
    "\n",
    "Notebook này dùng để chạy training AuraNet trên môi trường Kaggle."
   ]
  },
  {
   "cell_type": "markdown",
   "id": "7c154452",
   "metadata": {},
   "source": [
    "## Thiết lập môi trường\n",
    "\n",
    "Trước tiên, thiết lập các thư mục và sao chép các file cần thiết."
   ]
  },
  {
   "cell_type": "code",
   "execution_count": null,
   "id": "4e5e9508",
   "metadata": {},
   "outputs": [],
   "source": [
    "import os\n",
    "import sys\n",
    "import shutil\n",
    "\n",
    "# Thiết lập các đường dẫn\n",
    "WORKING_DIR = \"/kaggle/working/AuraNet\"\n",
    "INPUT_DIR = \"/kaggle/input\"\n",
    "AURANET_CODE_DIR = \"/kaggle/input/auranet-code\"  # Thay đổi tùy theo tên dataset của bạn\n",
    "\n",
    "# Tạo thư mục làm việc\n",
    "os.makedirs(WORKING_DIR, exist_ok=True)\n",
    "\n",
    "# Thêm đường dẫn vào Python path\n",
    "sys.path.append(WORKING_DIR)\n",
    "sys.path.append(os.path.join(WORKING_DIR, 'src'))\n",
    "\n",
    "print(\"Environment setup completed.\")"
   ]
  },
  {
   "cell_type": "markdown",
   "id": "9c67cfec",
   "metadata": {},
   "source": [
    "## Sao chép mã nguồn AuraNet"
   ]
  },
  {
   "cell_type": "code",
   "execution_count": null,
   "id": "2c9e58da",
   "metadata": {},
   "outputs": [],
   "source": [
    "# Sao chép tất cả file từ input dataset vào working directory\n",
    "!cp -r {AURANET_CODE_DIR}/* {WORKING_DIR}/\n",
    "\n",
    "# Kiểm tra file đã được sao chép\n",
    "!ls -la {WORKING_DIR}"
   ]
  },
  {
   "cell_type": "markdown",
   "id": "e8045470",
   "metadata": {},
   "source": [
    "## Cài đặt thư viện cần thiết"
   ]
  },
  {
   "cell_type": "code",
   "execution_count": null,
   "id": "fe8a8cbc",
   "metadata": {},
   "outputs": [],
   "source": [
    "# Cài đặt các thư viện cần thiết\n",
    "!pip install -r {WORKING_DIR}/requirements_kaggle.txt"
   ]
  },
  {
   "cell_type": "markdown",
   "id": "97f2052c",
   "metadata": {},
   "source": [
    "## Cấu hình training"
   ]
  },
  {
   "cell_type": "code",
   "execution_count": null,
   "id": "93043040",
   "metadata": {},
   "outputs": [],
   "source": [
    "# Thiết lập các tham số training\n",
    "CONFIG_FILE = os.path.join(WORKING_DIR, \"config_celeb_df_memory_optimized.yaml\")\n",
    "MODE = \"pretrain\"  # Options: pretrain, finetune, both\n",
    "NUM_GPUS = 2\n",
    "USE_PRETRAINED = \"yes\"\n",
    "PRETRAINED_PATH = \"/kaggle/input/convnextv2-pico/pytorch/default/1/convnextv2_pico_1k_224_fcmae.pt\"\n",
    "\n",
    "print(f\"Training configuration:\\n\")\n",
    "print(f\"- Config file: {CONFIG_FILE}\")\n",
    "print(f\"- Mode: {MODE}\")\n",
    "print(f\"- GPUs: {NUM_GPUS}\")\n",
    "print(f\"- Use pretrained: {USE_PRETRAINED}\")\n",
    "print(f\"- Pretrained path: {PRETRAINED_PATH}\")"
   ]
  },
  {
   "cell_type": "markdown",
   "id": "3f383df0",
   "metadata": {},
   "source": [
    "## Kiểm tra GPU"
   ]
  },
  {
   "cell_type": "code",
   "execution_count": null,
   "id": "4403fc0d",
   "metadata": {},
   "outputs": [],
   "source": [
    "# Kiểm tra GPU có sẵn\n",
    "!nvidia-smi"
   ]
  },
  {
   "cell_type": "markdown",
   "id": "58b78592",
   "metadata": {},
   "source": [
    "## Bắt đầu training"
   ]
  },
  {
   "cell_type": "code",
   "execution_count": null,
   "id": "63a993aa",
   "metadata": {},
   "outputs": [],
   "source": [
    "# Chạy training\n",
    "!python {WORKING_DIR}/train_celeb_df.py \\\n",
    "    --config {CONFIG_FILE} \\\n",
    "    --mode {MODE} \\\n",
    "    --data_root {INPUT_DIR} \\\n",
    "    --gpus {NUM_GPUS} \\\n",
    "    --use_pretrained {USE_PRETRAINED} \\\n",
    "    --pretrained_path {PRETRAINED_PATH} \\\n",
    "    --kaggle \\\n",
    "    --kaggle_working_dir {WORKING_DIR}"
   ]
  },
  {
   "cell_type": "markdown",
   "id": "9cbda529",
   "metadata": {},
   "source": [
    "## Kiểm tra kết quả"
   ]
  },
  {
   "cell_type": "code",
   "execution_count": null,
   "id": "834870ec",
   "metadata": {},
   "outputs": [],
   "source": [
    "# Kiểm tra thư mục logs\n",
    "LOGS_DIR = os.path.join(WORKING_DIR, \"logs\")\n",
    "!ls -la {LOGS_DIR}/celeb_df/"
   ]
  },
  {
   "cell_type": "markdown",
   "id": "7ab14af9",
   "metadata": {},
   "source": [
    "## Lưu checkpoints\n",
    "\n",
    "Đảm bảo lưu checkpoints ra ngoài để có thể tiếp tục training sau này."
   ]
  },
  {
   "cell_type": "code",
   "execution_count": null,
   "id": "be24a6e7",
   "metadata": {},
   "outputs": [],
   "source": [
    "# Nén thư mục logs để tải xuống\n",
    "!tar -czvf /kaggle/working/auranet_logs.tar.gz {LOGS_DIR}\n",
    "\n",
    "print(\"Logs compressed and ready for download.\")"
   ]
  }
 ],
 "metadata": {
  "language_info": {
   "name": "python"
  }
 },
 "nbformat": 4,
 "nbformat_minor": 5
}
